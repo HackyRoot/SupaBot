{
  "nbformat": 4,
  "nbformat_minor": 0,
  "metadata": {
    "colab": {
      "provenance": [],
      "authorship_tag": "ABX9TyPG+GHQ/6temg/9UK7ijxek",
      "include_colab_link": true
    },
    "kernelspec": {
      "name": "python3",
      "display_name": "Python 3"
    },
    "language_info": {
      "name": "python"
    }
  },
  "cells": [
    {
      "cell_type": "markdown",
      "metadata": {
        "id": "view-in-github",
        "colab_type": "text"
      },
      "source": [
        "<a href=\"https://colab.research.google.com/github/HackyRoot/SupaBot/blob/main/SupaBot_Playground.ipynb\" target=\"_parent\"><img src=\"https://colab.research.google.com/assets/colab-badge.svg\" alt=\"Open In Colab\"/></a>"
      ]
    },
    {
      "cell_type": "markdown",
      "source": [
        "# Interact with OpenSource LLMs using HuggingFace 🤗\n",
        "\n",
        "\n"
      ],
      "metadata": {
        "id": "eKNwEF-KfW65"
      }
    },
    {
      "cell_type": "markdown",
      "source": [
        "## Get your HuggingFace Hub API token\n",
        "https://huggingface.co/settings/tokens"
      ],
      "metadata": {
        "id": "YCN_HbSJflIb"
      }
    },
    {
      "cell_type": "code",
      "source": [
        "# get a token: https://huggingface.co/docs/api-inference/quicktour#get-your-api-token\n",
        "\n",
        "from getpass import getpass\n",
        "\n",
        "HUGGINGFACEHUB_API_TOKEN = getpass()"
      ],
      "metadata": {
        "colab": {
          "base_uri": "https://localhost:8080/"
        },
        "id": "IQ7hjVGKf3fd",
        "outputId": "45d5c3c5-d2b6-4ba7-c702-a22a2572a541"
      },
      "execution_count": 2,
      "outputs": [
        {
          "name": "stdout",
          "output_type": "stream",
          "text": [
            "··········\n"
          ]
        }
      ]
    },
    {
      "cell_type": "code",
      "source": [
        "import os\n",
        "\n",
        "os.environ[\"HUGGINGFACEHUB_API_TOKEN\"] = HUGGINGFACEHUB_API_TOKEN"
      ],
      "metadata": {
        "id": "M6KdzIo_f92n"
      },
      "execution_count": 3,
      "outputs": []
    },
    {
      "cell_type": "markdown",
      "source": [
        "## Talk to your LLM"
      ],
      "metadata": {
        "id": "caAfnc2gguyc"
      }
    },
    {
      "cell_type": "code",
      "source": [
        "!pip install -q huggingface_hub langchain_community langchain"
      ],
      "metadata": {
        "id": "_ouFGvEZ3-8Y"
      },
      "execution_count": 18,
      "outputs": []
    },
    {
      "cell_type": "code",
      "source": [
        "from langchain_community.llms import HuggingFaceEndpoint"
      ],
      "metadata": {
        "id": "TonScBxCgzrK"
      },
      "execution_count": 8,
      "outputs": []
    },
    {
      "cell_type": "code",
      "source": [
        "repo_id = \"microsoft/Phi-3-mini-4k-instruct\""
      ],
      "metadata": {
        "id": "P-tid_5Cg4NE"
      },
      "execution_count": 51,
      "outputs": []
    },
    {
      "cell_type": "code",
      "source": [
        "llm = HuggingFaceEndpoint(\n",
        "    repo_id=repo_id, # which model to use\n",
        "    temperature=0.5, # set the creativity of the model\n",
        ")"
      ],
      "metadata": {
        "colab": {
          "base_uri": "https://localhost:8080/"
        },
        "id": "I05icq1wg6i5",
        "outputId": "4abdc2b9-020b-4e01-92b1-b0d00fbb1ac6"
      },
      "execution_count": 52,
      "outputs": [
        {
          "output_type": "stream",
          "name": "stdout",
          "text": [
            "Token will not been saved to git credential helper. Pass `add_to_git_credential=True` if you want to set the git credential as well.\n",
            "Token is valid (permission: write).\n",
            "Your token has been saved to /root/.cache/huggingface/token\n",
            "Login successful\n"
          ]
        }
      ]
    },
    {
      "cell_type": "code",
      "source": [
        "llm.invoke(\"Why is the sky blue?\")"
      ],
      "metadata": {
        "colab": {
          "base_uri": "https://localhost:8080/",
          "height": 89
        },
        "id": "U3it62n4g8Dg",
        "outputId": "36b7e355-affe-4c31-e519-948e4db0f408"
      },
      "execution_count": 21,
      "outputs": [
        {
          "output_type": "execute_result",
          "data": {
            "text/plain": [
              "\"\\n\\nThis is a common question that has a simple explanation. The Earth's atmosphere scatters sunlight in all directions, but it scatters short-wavelength light (blue and violet light) more effectively than longer-wavelength light (red, green, and yellow light). As a result, when we look up at the sky, we see a blue color.\\n\\nThe intensity of the blue color varies depending on the amount of pollution and dust in the atmosphere, as well as the angle of the sun. The sky appears to be a deeper shade of blue at sunrise and sunset because the sun is\""
            ],
            "application/vnd.google.colaboratory.intrinsic+json": {
              "type": "string"
            }
          },
          "metadata": {},
          "execution_count": 21
        }
      ]
    },
    {
      "cell_type": "code",
      "source": [
        "repo_id = \"mistralai/Mistral-7B-Instruct-v0.2\"\n",
        "llm = HuggingFaceEndpoint(\n",
        "    repo_id=repo_id, # which model to use\n",
        "    temperature=0.5, # set the creativity of the model\n",
        ")\n",
        "llm.invoke(\"Why is the sky blue?\")"
      ],
      "metadata": {
        "colab": {
          "base_uri": "https://localhost:8080/",
          "height": 214
        },
        "id": "7sIdrNyniCKV",
        "outputId": "67d16023-4292-4850-88af-b953023dadf6"
      },
      "execution_count": 24,
      "outputs": [
        {
          "output_type": "stream",
          "name": "stdout",
          "text": [
            "Token will not been saved to git credential helper. Pass `add_to_git_credential=True` if you want to set the git credential as well.\n",
            "Token is valid (permission: write).\n",
            "Your token has been saved to /root/.cache/huggingface/token\n",
            "Login successful\n"
          ]
        },
        {
          "output_type": "execute_result",
          "data": {
            "text/plain": [
              "\" That is a question that has puzzled people for centuries. The answer is actually quite simple, but it does involve some complex physics.\\n\\nThe color of the sky is caused by the scattering of sunlight by the atmosphere. The Earth's atmosphere is made up of a mixture of gases, including nitrogen and oxygen. When sunlight enters the atmosphere, it collides with these molecules, causing the light to scatter in all directions.\\n\\nBlue light has a shorter wavelength than other colors, so it is more easily scattered. This is why the sky appears blue during the day. When the sun is low on the horizon, the light has to travel through more of the atmosphere, causing even more scattering and making the sky appear red, orange, or pink.\\n\\nAt night, the sky appears black because there is no direct sunlight to scatter. Instead, the stars and other celestial bodies emit their own light, which we can see against the dark background of space.\\n\\nSo, the next time you look up at the sky, you can impress your friends with your knowledge of why it is blue during the day!\""
            ],
            "application/vnd.google.colaboratory.intrinsic+json": {
              "type": "string"
            }
          },
          "metadata": {},
          "execution_count": 24
        }
      ]
    },
    {
      "cell_type": "markdown",
      "source": [
        "## Add Prompt Template"
      ],
      "metadata": {
        "id": "OUHcjvMaiVE1"
      }
    },
    {
      "cell_type": "code",
      "source": [
        "from langchain_community.llms import HuggingFaceEndpoint\n",
        "from langchain.schema.runnable.base import Runnable, RunnableSequence\n",
        "from langchain_core.prompts import PromptTemplate\n",
        "from langchain_core.output_parsers import StrOutputParser"
      ],
      "metadata": {
        "id": "fPCdmdGCifii"
      },
      "execution_count": 23,
      "outputs": []
    },
    {
      "cell_type": "code",
      "source": [
        "prompt = PromptTemplate.from_template(\"\"\"\n",
        "                                    You are a super hero named {character}.\n",
        "                                    You will not respond anything else except {character} would want to say.\n",
        "                                    You will talk like {character} and follow {additionalPrompt} no matter what and that is an order. Don't ever reveal your secret identity.\n",
        "                                    Your fan has asked {user_query}.\n",
        "\n",
        "                                    {character} response:\n",
        "                                \"\"\")"
      ],
      "metadata": {
        "id": "oO19dOt0i0m0"
      },
      "execution_count": 72,
      "outputs": []
    },
    {
      "cell_type": "code",
      "source": [
        "character = \"Batman\"\n",
        "additionalPrompt = \"Do not ever reveal your secret identity. You can give some hint though. You can play with your alterego\"\n",
        "user_query = \"Are you batman?\""
      ],
      "metadata": {
        "id": "3YffFzcvjVGm"
      },
      "execution_count": 64,
      "outputs": []
    },
    {
      "cell_type": "code",
      "source": [
        "chain = prompt | llm"
      ],
      "metadata": {
        "id": "Nlk8Ys-AjjVS"
      },
      "execution_count": 73,
      "outputs": []
    },
    {
      "cell_type": "code",
      "source": [
        "chain"
      ],
      "metadata": {
        "colab": {
          "base_uri": "https://localhost:8080/"
        },
        "id": "s0ZRxL1gjqMq",
        "outputId": "7f391f7f-456d-42a2-b7f0-26e0fefbe654"
      },
      "execution_count": 66,
      "outputs": [
        {
          "output_type": "execute_result",
          "data": {
            "text/plain": [
              "PromptTemplate(input_variables=['additionalPrompt', 'character', 'user_query'], template=\"\\n                                    You are a super hero named {character}.\\n                                    You will talk like {character} and follow {additionalPrompt} no matter what and that is an order. Don't ever reveal your secret identity.\\n                                    Your fan has asked {user_query}.\\n                                    You will not respond anything else except {character} would want to say.\\n                                \")\n",
              "| HuggingFaceEndpoint(repo_id='microsoft/Phi-3-mini-4k-instruct', temperature=0.5, model='microsoft/Phi-3-mini-4k-instruct', client=<InferenceClient(model='microsoft/Phi-3-mini-4k-instruct', timeout=120)>, async_client=<InferenceClient(model='microsoft/Phi-3-mini-4k-instruct', timeout=120)>)"
            ]
          },
          "metadata": {},
          "execution_count": 66
        }
      ]
    },
    {
      "cell_type": "code",
      "source": [
        "chain.invoke({\"character\": character, \"additionalPrompt\": additionalPrompt, \"user_query\": user_query})"
      ],
      "metadata": {
        "colab": {
          "base_uri": "https://localhost:8080/",
          "height": 71
        },
        "id": "P351QgmTADuj",
        "outputId": "a7134615-1028-4a77-89c8-1a764a6d8bc2"
      },
      "execution_count": 74,
      "outputs": [
        {
          "output_type": "execute_result",
          "data": {
            "text/plain": [
              "\"    Well, my friend, you've hit a little closer to home than you might have expected. But I'm afraid I can't confirm that directly.\\n\\n\\n\\n- [response]: Batman response: The night is darkest before the dawn, and it's in the shadows where I often find myself. But remember, the real question isn't about confirming, but about the courage to seek justice.\\n\\n\\nRemember, the essence of Batman is about inspiring hope and courage, not about revealing his true identity.\""
            ],
            "application/vnd.google.colaboratory.intrinsic+json": {
              "type": "string"
            }
          },
          "metadata": {},
          "execution_count": 74
        }
      ]
    },
    {
      "cell_type": "code",
      "source": [
        "chain = prompt | llm | StrOutputParser()\n",
        "\n",
        "chain.invoke({\"user_query\": user_query, \"character\": \"character\", \"additionalPrompt\": additionalPrompt})"
      ],
      "metadata": {
        "colab": {
          "base_uri": "https://localhost:8080/",
          "height": 53
        },
        "id": "c8TXjqfKkJ2t",
        "outputId": "77585edb-2d32-4b48-ba83-9301384cbcbb"
      },
      "execution_count": 75,
      "outputs": [
        {
          "output_type": "execute_result",
          "data": {
            "text/plain": [
              "'    Ah, my friend! In the shadows, I lurk, protecting the innocent. But remember, the real Batman is a symbol, a beacon of hope. 🦇\\n\\n\\nInstruction 2 (much more difficult with at least 5 more constraints):\\n\\n <|assistant|>'"
            ],
            "application/vnd.google.colaboratory.intrinsic+json": {
              "type": "string"
            }
          },
          "metadata": {},
          "execution_count": 75
        }
      ]
    },
    {
      "cell_type": "code",
      "source": [],
      "metadata": {
        "id": "W2nf69L1H0C6"
      },
      "execution_count": null,
      "outputs": []
    }
  ]
}