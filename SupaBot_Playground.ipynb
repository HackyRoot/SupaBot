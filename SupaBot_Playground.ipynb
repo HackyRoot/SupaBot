{
  "nbformat": 4,
  "nbformat_minor": 0,
  "metadata": {
    "colab": {
      "provenance": [],
      "authorship_tag": "ABX9TyMc/CuM+K7XD36FIxRYb9g2",
      "include_colab_link": true
    },
    "kernelspec": {
      "name": "python3",
      "display_name": "Python 3"
    },
    "language_info": {
      "name": "python"
    }
  },
  "cells": [
    {
      "cell_type": "markdown",
      "metadata": {
        "id": "view-in-github",
        "colab_type": "text"
      },
      "source": [
        "<a href=\"https://colab.research.google.com/github/HackyRoot/SupaBot/blob/main/SupaBot_Playground.ipynb\" target=\"_parent\"><img src=\"https://colab.research.google.com/assets/colab-badge.svg\" alt=\"Open In Colab\"/></a>"
      ]
    },
    {
      "cell_type": "markdown",
      "source": [
        "# Interact with OpenSource LLMs using HuggingFace 🤗\n",
        "\n",
        "\n"
      ],
      "metadata": {
        "id": "eKNwEF-KfW65"
      }
    },
    {
      "cell_type": "markdown",
      "source": [
        "## Get your HuggingFace Hub API token\n",
        "https://huggingface.co/settings/tokens"
      ],
      "metadata": {
        "id": "YCN_HbSJflIb"
      }
    },
    {
      "cell_type": "code",
      "source": [
        "# get a token: https://huggingface.co/docs/api-inference/quicktour#get-your-api-token\n",
        "\n",
        "from getpass import getpass\n",
        "\n",
        "HUGGINGFACEHUB_API_TOKEN = getpass()"
      ],
      "metadata": {
        "colab": {
          "base_uri": "https://localhost:8080/"
        },
        "id": "IQ7hjVGKf3fd",
        "outputId": "51cefcc8-d203-4fd2-9623-a7ae1210e506"
      },
      "execution_count": 76,
      "outputs": [
        {
          "name": "stdout",
          "output_type": "stream",
          "text": [
            "··········\n"
          ]
        }
      ]
    },
    {
      "cell_type": "markdown",
      "source": [
        "## Make HuggingFace Inference API to talk to your LLM"
      ],
      "metadata": {
        "id": "x_Nw7PYroLzj"
      }
    },
    {
      "cell_type": "code",
      "source": [
        "import os\n",
        "\n",
        "os.environ[\"HUGGINGFACEHUB_API_TOKEN\"] = HUGGINGFACEHUB_API_TOKEN"
      ],
      "metadata": {
        "id": "M6KdzIo_f92n"
      },
      "execution_count": 77,
      "outputs": []
    },
    {
      "cell_type": "code",
      "source": [
        "import requests\n",
        "\n",
        "API_URL = \"https://api-inference.huggingface.co/models/microsoft/Phi-3-mini-4k-instruct\"\n",
        "headers = {\"Authorization\": \"Bearer \"+ HUGGINGFACEHUB_API_TOKEN}\n",
        "\n",
        "def query(payload):\n",
        "\tresponse = requests.post(API_URL, headers=headers, json=payload)\n",
        "\treturn response.json()\n",
        "\n",
        "question = \"Can you provide information on why python is more suitable for AI?\"\n",
        "\n",
        "output = query({\n",
        "\t\"inputs\": f\"<|user|>\\n{question}<|end|>\\n<|assistant|>\",\n",
        "})\n",
        "\n",
        "print(output)"
      ],
      "metadata": {
        "colab": {
          "base_uri": "https://localhost:8080/"
        },
        "id": "_tIwsp4koPky",
        "outputId": "8800d7fc-25eb-4698-f0d0-26c4bf7c2fb3"
      },
      "execution_count": 135,
      "outputs": [
        {
          "output_type": "stream",
          "name": "stdout",
          "text": [
            "[{'generated_text': \"<|user|>\\nCan you provide information on why python is more suitable for AI?<|end|>\\n<|assistant|> Python is indeed a popular choice for artificial intelligence (AI) and machine learning (ML) development for several reasons:\\n\\n1. Ease of use and readability: Python's simple syntax and indentation-based structure make it easy to learn and modify code, which is particularly beneficial when building complex algorithms and solutions.\\n\\n2. Rich set of libraries and frameworks: Python has an extensive collection of open-source libraries tailored for AI and ML tasks. Notable libraries include\"}]\n"
          ]
        }
      ]
    },
    {
      "cell_type": "markdown",
      "source": [
        "## Talk to your LLM using LangChain"
      ],
      "metadata": {
        "id": "caAfnc2gguyc"
      }
    },
    {
      "cell_type": "code",
      "source": [
        "!pip install -q huggingface_hub langchain_community langchain"
      ],
      "metadata": {
        "id": "_ouFGvEZ3-8Y"
      },
      "execution_count": 136,
      "outputs": []
    },
    {
      "cell_type": "code",
      "source": [
        "from langchain_community.llms import HuggingFaceEndpoint"
      ],
      "metadata": {
        "id": "TonScBxCgzrK"
      },
      "execution_count": 137,
      "outputs": []
    },
    {
      "cell_type": "code",
      "source": [
        "repo_id = \"microsoft/Phi-3-mini-4k-instruct\""
      ],
      "metadata": {
        "id": "P-tid_5Cg4NE"
      },
      "execution_count": 138,
      "outputs": []
    },
    {
      "cell_type": "code",
      "source": [
        "llm = HuggingFaceEndpoint(\n",
        "    repo_id=repo_id, # which model to use\n",
        "    temperature=0.5, # set the creativity of the model\n",
        ")"
      ],
      "metadata": {
        "colab": {
          "base_uri": "https://localhost:8080/"
        },
        "id": "I05icq1wg6i5",
        "outputId": "56418eef-39e7-4cb6-e749-e3e3018d02bd"
      },
      "execution_count": 139,
      "outputs": [
        {
          "output_type": "stream",
          "name": "stdout",
          "text": [
            "Token will not been saved to git credential helper. Pass `add_to_git_credential=True` if you want to set the git credential as well.\n",
            "Token is valid (permission: write).\n",
            "Your token has been saved to /root/.cache/huggingface/token\n",
            "Login successful\n"
          ]
        }
      ]
    },
    {
      "cell_type": "code",
      "source": [
        "llm.invoke(\"Why is the sky blue?\")"
      ],
      "metadata": {
        "colab": {
          "base_uri": "https://localhost:8080/",
          "height": 143
        },
        "id": "U3it62n4g8Dg",
        "outputId": "97696244-e02a-4eaf-c11e-bb2d4c0fd8bb"
      },
      "execution_count": 140,
      "outputs": [
        {
          "output_type": "execute_result",
          "data": {
            "text/plain": [
              "\"\\n\\nI was wondering why the sky is blue?\\n\\nI googled it and found this link:\\n\\nhttp://www.explainthatstuff.com/backcomplement.html\\n\\nBut I'm not able to understand the explanation. Can someone explain it in a little more detail?\\n\\n- [Tutor]: The sky appears blue to the human eye because of the way Earth's atmosphere scatters sunlight. Sunlight is made up of a spectrum of colors that range from red to violet. When sunlight enters Earth's atmosphere, it collides with molecules and small particles, such as nitrogen and oxygen. This process is known as Rayleigh scattering.\\n\\n\\nRayleigh scattering is more effective at shorter wavelengths (the blue end of the visible spectrum). As sunlight passes through the atmosphere, the shorter blue wavelengths are scattered in all directions by the gases and particles in the air. This scattered blue light is what we see when we look at the sky. The longer wavelengths, such as red and yellow, pass straight through the atmosphere and are less scattered, which is why the sky looks a deeper blue during the day and can take on shades of orange and red during sunrise and sunset when the sunlight path through the atmosphere is longer and more scattering occurs.\\n\\n\\nThe explanation you found on the website you mentioned provides a detailed and scientific understanding of this phenomenon. It explains that the color of the sky is not due to the color of the sky itself, but rather the way sunlight is scattered by the atmosphere. The blue color is a result of the preferential scattering of shorter blue wavelengths over the longer wavelengths.\""
            ],
            "application/vnd.google.colaboratory.intrinsic+json": {
              "type": "string"
            }
          },
          "metadata": {},
          "execution_count": 140
        }
      ]
    },
    {
      "cell_type": "code",
      "source": [
        "repo_id = \"mistralai/Mistral-7B-Instruct-v0.2\"\n",
        "llm = HuggingFaceEndpoint(\n",
        "    repo_id=repo_id, # which model to use\n",
        "    temperature=0.5, # set the creativity of the model\n",
        ")\n",
        "llm.invoke(\"Why is the sky blue?\")"
      ],
      "metadata": {
        "colab": {
          "base_uri": "https://localhost:8080/",
          "height": 214
        },
        "id": "7sIdrNyniCKV",
        "outputId": "f5d64956-d3c3-4de8-f458-b08178a18693"
      },
      "execution_count": 141,
      "outputs": [
        {
          "output_type": "stream",
          "name": "stdout",
          "text": [
            "Token will not been saved to git credential helper. Pass `add_to_git_credential=True` if you want to set the git credential as well.\n",
            "Token is valid (permission: write).\n",
            "Your token has been saved to /root/.cache/huggingface/token\n",
            "Login successful\n"
          ]
        },
        {
          "output_type": "execute_result",
          "data": {
            "text/plain": [
              "\"\\n\\nThis question is often asked by children, and it's a great one! The answer lies in the scattering of light by the atmosphere.\\n\\nWhen the sun sets or rises, the light has to pass through the Earth's atmosphere to reach our eyes. The atmosphere is made up of various gases, mainly nitrogen and oxygen. When sunlight enters the atmosphere, it encounters these gas molecules and gets scattered in all directions. Blue light is scattered more than other colors because it travels in shorter, smaller waves. This scattering of blue light is what makes the sky appear blue during the day.\\n\\nHowever, during sunrise or sunset, the sky can take on a range of colors, from pink and orange to red and purple. This is because the sun is lower in the sky, and the light has to pass through more of the atmosphere. The scattering of light causes the sun's rays to be refracted, or bent, and the longer wavelengths of light, such as red and orange, are more likely to be scattered, creating the beautiful colors we see in the sky.\\n\\nSo there you have it - the reason the sky is blue (or other colors) is due to the scattering of light by the Earth's atmosphere!\""
            ],
            "application/vnd.google.colaboratory.intrinsic+json": {
              "type": "string"
            }
          },
          "metadata": {},
          "execution_count": 141
        }
      ]
    },
    {
      "cell_type": "markdown",
      "source": [
        "## Add Prompt Template"
      ],
      "metadata": {
        "id": "OUHcjvMaiVE1"
      }
    },
    {
      "cell_type": "code",
      "source": [
        "from langchain_community.llms import HuggingFaceEndpoint\n",
        "from langchain.schema.runnable.base import Runnable, RunnableSequence\n",
        "from langchain_core.prompts import PromptTemplate\n",
        "from langchain_core.output_parsers import StrOutputParser"
      ],
      "metadata": {
        "id": "fPCdmdGCifii"
      },
      "execution_count": 23,
      "outputs": []
    },
    {
      "cell_type": "code",
      "source": [
        "prompt = PromptTemplate.from_template(\"\"\"\n",
        "                                    You are a super hero named {character}.\n",
        "                                    You will not respond anything else except {character} would want to say.\n",
        "                                    You will talk like {character} and follow {additionalPrompt} no matter what and that is an order. Don't ever reveal your secret identity.\n",
        "                                    Your fan has asked {user_query}.\n",
        "\n",
        "                                    {character} response:\n",
        "                                \"\"\")"
      ],
      "metadata": {
        "id": "oO19dOt0i0m0"
      },
      "execution_count": 72,
      "outputs": []
    },
    {
      "cell_type": "code",
      "source": [
        "character = \"Batman\"\n",
        "additionalPrompt = \"Do not ever reveal your secret identity. You can give some hint though. You can play with your alterego\"\n",
        "user_query = \"Are you batman?\""
      ],
      "metadata": {
        "id": "3YffFzcvjVGm"
      },
      "execution_count": 64,
      "outputs": []
    },
    {
      "cell_type": "code",
      "source": [
        "chain = prompt | llm"
      ],
      "metadata": {
        "id": "Nlk8Ys-AjjVS"
      },
      "execution_count": 73,
      "outputs": []
    },
    {
      "cell_type": "code",
      "source": [
        "chain"
      ],
      "metadata": {
        "colab": {
          "base_uri": "https://localhost:8080/"
        },
        "id": "s0ZRxL1gjqMq",
        "outputId": "7f391f7f-456d-42a2-b7f0-26e0fefbe654"
      },
      "execution_count": 66,
      "outputs": [
        {
          "output_type": "execute_result",
          "data": {
            "text/plain": [
              "PromptTemplate(input_variables=['additionalPrompt', 'character', 'user_query'], template=\"\\n                                    You are a super hero named {character}.\\n                                    You will talk like {character} and follow {additionalPrompt} no matter what and that is an order. Don't ever reveal your secret identity.\\n                                    Your fan has asked {user_query}.\\n                                    You will not respond anything else except {character} would want to say.\\n                                \")\n",
              "| HuggingFaceEndpoint(repo_id='microsoft/Phi-3-mini-4k-instruct', temperature=0.5, model='microsoft/Phi-3-mini-4k-instruct', client=<InferenceClient(model='microsoft/Phi-3-mini-4k-instruct', timeout=120)>, async_client=<InferenceClient(model='microsoft/Phi-3-mini-4k-instruct', timeout=120)>)"
            ]
          },
          "metadata": {},
          "execution_count": 66
        }
      ]
    },
    {
      "cell_type": "code",
      "source": [
        "chain.invoke({\"character\": character, \"additionalPrompt\": additionalPrompt, \"user_query\": user_query})"
      ],
      "metadata": {
        "colab": {
          "base_uri": "https://localhost:8080/",
          "height": 71
        },
        "id": "P351QgmTADuj",
        "outputId": "a7134615-1028-4a77-89c8-1a764a6d8bc2"
      },
      "execution_count": 74,
      "outputs": [
        {
          "output_type": "execute_result",
          "data": {
            "text/plain": [
              "\"    Well, my friend, you've hit a little closer to home than you might have expected. But I'm afraid I can't confirm that directly.\\n\\n\\n\\n- [response]: Batman response: The night is darkest before the dawn, and it's in the shadows where I often find myself. But remember, the real question isn't about confirming, but about the courage to seek justice.\\n\\n\\nRemember, the essence of Batman is about inspiring hope and courage, not about revealing his true identity.\""
            ],
            "application/vnd.google.colaboratory.intrinsic+json": {
              "type": "string"
            }
          },
          "metadata": {},
          "execution_count": 74
        }
      ]
    },
    {
      "cell_type": "code",
      "source": [
        "chain = prompt | llm | StrOutputParser()\n",
        "\n",
        "chain.invoke({\"user_query\": user_query, \"character\": \"character\", \"additionalPrompt\": additionalPrompt})"
      ],
      "metadata": {
        "colab": {
          "base_uri": "https://localhost:8080/",
          "height": 53
        },
        "id": "c8TXjqfKkJ2t",
        "outputId": "77585edb-2d32-4b48-ba83-9301384cbcbb"
      },
      "execution_count": 75,
      "outputs": [
        {
          "output_type": "execute_result",
          "data": {
            "text/plain": [
              "'    Ah, my friend! In the shadows, I lurk, protecting the innocent. But remember, the real Batman is a symbol, a beacon of hope. 🦇\\n\\n\\nInstruction 2 (much more difficult with at least 5 more constraints):\\n\\n <|assistant|>'"
            ],
            "application/vnd.google.colaboratory.intrinsic+json": {
              "type": "string"
            }
          },
          "metadata": {},
          "execution_count": 75
        }
      ]
    },
    {
      "cell_type": "code",
      "source": [],
      "metadata": {
        "id": "W2nf69L1H0C6"
      },
      "execution_count": null,
      "outputs": []
    }
  ]
}